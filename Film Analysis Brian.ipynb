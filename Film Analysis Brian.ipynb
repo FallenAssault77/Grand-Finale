{
 "cells": [
  {
   "cell_type": "markdown",
   "metadata": {},
   "source": [
    "## PSTAT 134 Project"
   ]
  },
  {
   "cell_type": "code",
   "execution_count": null,
   "metadata": {},
   "outputs": [],
   "source": [
    "import pandas as pd\n",
    "import numpy as np"
   ]
  },
  {
   "cell_type": "code",
   "execution_count": null,
   "metadata": {},
   "outputs": [],
   "source": [
    "OgData = pd.read_csv('/home/jovyan/work/Grand-Finale/dataset/movie_metadata_cleaned.csv', header='infer')"
   ]
  },
  {
   "cell_type": "code",
   "execution_count": null,
   "metadata": {},
   "outputs": [],
   "source": [
    "OgData.head()"
   ]
  },
  {
   "cell_type": "code",
   "execution_count": null,
   "metadata": {},
   "outputs": [],
   "source": [
    "#dropping unnecessary columns \n",
    "OgData=OgData.drop(['id','imdb_id','status'],axis=1)"
   ]
  },
  {
   "cell_type": "code",
   "execution_count": null,
   "metadata": {},
   "outputs": [],
   "source": [
    "# replacing 0 with np.nan \n",
    "OgData[OgData['revenue']==0].shape\n",
    "OgData['revenue']=OgData['revenue'].replace(0,np.nan)\n",
    "OgData['budget']=OgData['budget'].replace(0,np.nan)"
   ]
  },
  {
   "cell_type": "code",
   "execution_count": null,
   "metadata": {},
   "outputs": [],
   "source": [
    "type(OgData['genres'])\n",
    "#OgData['genres']"
   ]
  },
  {
   "cell_type": "code",
   "execution_count": null,
   "metadata": {},
   "outputs": [],
   "source": [
    "#formatting csv columns that are in json/dict format and converting them to lists\n",
    "# only run once or error\n",
    "from ast import literal_eval\n",
    "OgData['genres']=OgData['genres'].fillna('[]').apply(literal_eval).apply(lambda x:[i['name'] for i in x] if isinstance(x,list) else [])\n",
    "OgData['production_companies']=OgData['production_companies'].fillna('[]').apply(literal_eval).apply(lambda x:[i['name'] for i in x] if isinstance(x,list) else [])\n",
    "OgData['production_countries']=OgData['production_countries'].fillna('[]').apply(literal_eval).apply(lambda x:[i['name'] for i in x] if isinstance(x,list) else [])\n",
    "OgData['spoken_languages']=OgData['spoken_languages'].fillna('[]').apply(literal_eval).apply(lambda x:[i['name'] for i in x] if isinstance(x,list) else [])\n",
    "OgData['belongs_to_collection']=OgData['belongs_to_collection'].fillna('[]').apply(literal_eval).apply(lambda x:x['name'] if isinstance(x,dict) else np.nan)\n",
    "# Adding in return where >1 is profit and <1 is loss\n",
    "OgData['return']=OgData['revenue']/OgData['budget']\n"
   ]
  },
  {
   "cell_type": "code",
   "execution_count": null,
   "metadata": {},
   "outputs": [],
   "source": [
    "OgData"
   ]
  },
  {
   "cell_type": "code",
   "execution_count": null,
   "metadata": {},
   "outputs": [],
   "source": [
    "OgData.poster_path[0]"
   ]
  },
  {
   "cell_type": "code",
   "execution_count": null,
   "metadata": {},
   "outputs": [],
   "source": [
    "BaseUrl = 'http://image.tmdb.org/t/p/w185'"
   ]
  },
  {
   "cell_type": "code",
   "execution_count": null,
   "metadata": {},
   "outputs": [],
   "source": [
    "x=BaseUrl+OgData.poster_path[0]\n",
    "x"
   ]
  },
  {
   "cell_type": "code",
   "execution_count": null,
   "metadata": {},
   "outputs": [],
   "source": [
    "from skimage import io\n",
    "x=io.imread(BaseUrl+OgData.poster_path[0])"
   ]
  },
  {
   "cell_type": "code",
   "execution_count": null,
   "metadata": {},
   "outputs": [],
   "source": [
    "io.imshow(x)"
   ]
  },
  {
   "cell_type": "code",
   "execution_count": null,
   "metadata": {},
   "outputs": [],
   "source": [
    "OgData['poster_path'].isnull().sum()"
   ]
  },
  {
   "cell_type": "code",
   "execution_count": null,
   "metadata": {},
   "outputs": [],
   "source": [
    "OgData[OgData['poster_path'].isnull()].index"
   ]
  },
  {
   "cell_type": "code",
   "execution_count": null,
   "metadata": {},
   "outputs": [],
   "source": [
    "# reading in actual pictures\n",
    "Poster=[]\n",
    "for i in range(len(OgData)):\n",
    "    if i==2407 or i==2429:\n",
    "        Poster.append(np.array([0]))\n",
    "    else:\n",
    "        y=io.imread(BaseUrl+OgData.poster_path[i])\n",
    "        Poster.append(y)\n",
    "    "
   ]
  },
  {
   "cell_type": "code",
   "execution_count": null,
   "metadata": {},
   "outputs": [],
   "source": [
    "from skimage.io._plugins import matplotlib_plugin"
   ]
  },
  {
   "cell_type": "code",
   "execution_count": null,
   "metadata": {},
   "outputs": [],
   "source": [
    "#preview first 6\n",
    "import matplotlib.pyplot as plt\n",
    "for i in range(6):\n",
    "    plt.imshow(Poster[i],interpolation='nearest',aspect='auto')\n",
    "    plt.show()"
   ]
  },
  {
   "cell_type": "code",
   "execution_count": null,
   "metadata": {},
   "outputs": [],
   "source": [
    "#append list of image array as column to dataframe\n",
    "Poster_Image_Array=pd.Series(Poster)\n",
    "#Note that this code inserts alot of info into the dataframe and slows down\n",
    "#the ability to access values in OgData. ONly Necessary for Image Analysis\n",
    "OgData['Poster_Image_Array']=Poster_Image_Array.values"
   ]
  },
  {
   "cell_type": "code",
   "execution_count": null,
   "metadata": {},
   "outputs": [],
   "source": [
    "OgData.head()"
   ]
  },
  {
   "cell_type": "code",
   "execution_count": null,
   "metadata": {},
   "outputs": [],
   "source": [
    "#Number of Movies by Genre\n",
    "Unique_Genres=[]\n",
    "for i in OgData['genres']:\n",
    "    for y in i:\n",
    "        if y not in Unique_Genres:\n",
    "            Unique_Genres.append(y)"
   ]
  },
  {
   "cell_type": "code",
   "execution_count": null,
   "metadata": {},
   "outputs": [],
   "source": [
    "Unique_Genres\n",
    "#print(\"The Total Number of Genres is %s\" %len(Unique_Genres))"
   ]
  },
  {
   "cell_type": "code",
   "execution_count": null,
   "metadata": {},
   "outputs": [],
   "source": [
    "# counting hhow many occurences of each genre\n",
    "count_genre=[]\n",
    "for i in Unique_Genres:\n",
    "    y=sum(x.count(i) for x in OgData['genres'])\n",
    "    count_genre.append(y)\n",
    "count_genre\n",
    "    \n",
    "\n",
    "        "
   ]
  },
  {
   "cell_type": "code",
   "execution_count": null,
   "metadata": {},
   "outputs": [],
   "source": [
    "#Poster[][2 is RGB Values][Pixel number][0 is red, 1 is blue and 2 is green]\n",
    "len(Poster[2])"
   ]
  },
  {
   "cell_type": "code",
   "execution_count": null,
   "metadata": {},
   "outputs": [],
   "source": [
    "OgData['Poster_Image_Array'][0]"
   ]
  },
  {
   "cell_type": "code",
   "execution_count": null,
   "metadata": {},
   "outputs": [],
   "source": [
    "#OgData['Poster_Image_Array'][column index]\n",
    "#[2 to access RGB Info for all pixels]\n",
    "#[individual pixel RGB value][0 is R, 1 is G, 2 is B]\n",
    "#185 pixels per image\n",
    "Average_RGB_Values=[]\n",
    "for j in range(len(OgData['Poster_Image_Array'])):\n",
    "    R_Values=[]\n",
    "    G_Values=[]\n",
    "    B_Values=[]\n",
    "    if j==2407 or j==2429:\n",
    "        Average_RGB_Values.append([0,0,0])\n",
    "    else:\n",
    "        for y in range(3):\n",
    "            for i in range(185):\n",
    "                if y==0: \n",
    "                    R_Values.append(OgData['Poster_Image_Array'][j][2][i][y])\n",
    "                elif y==1:\n",
    "                    G_Values.append(OgData['Poster_Image_Array'][j][2][i][y])\n",
    "                elif y==2:\n",
    "                    B_Values.append(OgData['Poster_Image_Array'][j][2][i][y])\n",
    "                \n",
    "        Average_RGB_Values.append([np.mean(R_Values),np.mean(G_Values),np.mean(B_Values)])\n",
    "    \n",
    "            \n",
    "        "
   ]
  },
  {
   "cell_type": "code",
   "execution_count": null,
   "metadata": {},
   "outputs": [],
   "source": [
    "# Rounding up values\n",
    "import math as m\n",
    "for i in range (len(Average_RGB_Values)):\n",
    "    for y in range(len(Average_RGB_Values[i])):\n",
    "        Average_RGB_Values[i][y]=m.ceil(Average_RGB_Values[i][y])\n",
    "        "
   ]
  },
  {
   "cell_type": "code",
   "execution_count": null,
   "metadata": {},
   "outputs": [],
   "source": [
    " Average_RGB_Values"
   ]
  },
  {
   "cell_type": "code",
   "execution_count": null,
   "metadata": {},
   "outputs": [],
   "source": [
    "# Adding Average_RGB_Values to DataFrame \n",
    "m=pd.Series(Average_RGB_Values)\n",
    "OgData['Avg_RGB_Value']=m.values\n",
    "OgData.head()\n",
    "#interesting that the first 3 here ave RGB are [0,0,0] since tehre is a \n",
    "#an image produced mostly black...."
   ]
  },
  {
   "cell_type": "code",
   "execution_count": null,
   "metadata": {},
   "outputs": [],
   "source": [
    "OgData.head()"
   ]
  },
  {
   "cell_type": "code",
   "execution_count": null,
   "metadata": {},
   "outputs": [],
   "source": [
    "#Image Analysis\n",
    "import matplotlib.pyplot as plt\n",
    "from sklearn import svm,metrics"
   ]
  },
  {
   "cell_type": "code",
   "execution_count": null,
   "metadata": {},
   "outputs": [],
   "source": [
    "#\n",
    "n_samples=len(Poster)\n",
    "data=np.array(Poster).reshape((n_samples,-1))\n"
   ]
  },
  {
   "cell_type": "code",
   "execution_count": null,
   "metadata": {},
   "outputs": [],
   "source": [
    "from sklearn.preprocessing import MultiLabelBinarizer\n",
    "mlb=MultiLabelBinarizer()\n",
    "mlb.fit_transform([i for i in OgData['genres']])\n",
    "mlb.classes_"
   ]
  },
  {
   "cell_type": "code",
   "execution_count": null,
   "metadata": {},
   "outputs": [],
   "source": [
    "#Adding in Binary Features\n",
    "OgData2['vote_avg_bin']=np.where(OgData['vote_average']>7,1,0)\n",
    "OgData2['Movie_Collection_bool']=np.where(OgData['belongs_to_collection'] == np.nan,0,1)\n",
    "OgData2['Number_Genres']=OgData['genres'].apply(lambda x: len(x)) \n",
    "OgData2['Number_Production_Companies']=OgData['production_companies'].apply(lambda x: len(x)) \n",
    "OgData2['Number_Production_Countries']=OgData['production_countries'].apply(lambda x: len(x)) \n",
    "for i in Unique_Genres:\n",
    "    OgData2['is_'+str(i)]=OgData['genres'].apply(lambda x:1 if i in x else 0)\n",
    "            "
   ]
  },
  {
   "cell_type": "code",
   "execution_count": null,
   "metadata": {},
   "outputs": [],
   "source": [
    "OgData2.describe()"
   ]
  },
  {
   "cell_type": "code",
   "execution_count": null,
   "metadata": {},
   "outputs": [],
   "source": [
    "#Random Forest\n"
   ]
  },
  {
   "cell_type": "code",
   "execution_count": null,
   "metadata": {},
   "outputs": [],
   "source": []
  }
 ],
 "metadata": {
  "language_info": {
   "name": "python",
   "pygments_lexer": "ipython3"
  }
 },
 "nbformat": 4,
 "nbformat_minor": 2
}
