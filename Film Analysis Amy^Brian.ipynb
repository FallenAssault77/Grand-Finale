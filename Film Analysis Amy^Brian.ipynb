{
 "cells": [
  {
   "cell_type": "markdown",
   "metadata": {},
   "source": [
    "## PSTAT 134 Project"
   ]
  },
  {
   "cell_type": "code",
   "execution_count": null,
   "metadata": {},
   "outputs": [],
   "source": [
    "import pandas as pd\n",
    "import numpy as np"
   ]
  },
  {
   "cell_type": "code",
   "execution_count": null,
   "metadata": {},
   "outputs": [],
   "source": [
    "#loading the dataset \n",
    "OgData = pd.read_csv('/home/jovyan/work/Grand-Finale/dataset/movie_metadata_cleaned.csv', header='infer')"
   ]
  },
  {
   "cell_type": "code",
   "execution_count": null,
   "metadata": {},
   "outputs": [],
   "source": [
    "OgData.head()"
   ]
  },
  {
   "cell_type": "code",
   "execution_count": null,
   "metadata": {},
   "outputs": [],
   "source": [
    "#dropping unnecessary columns \n",
    "OgData=OgData.drop(['id','imdb_id','status'],axis=1)"
   ]
  },
  {
   "cell_type": "code",
   "execution_count": null,
   "metadata": {},
   "outputs": [],
   "source": [
    "# replacing 0 with np.nan \n",
    "# we notice that a large part of revenue has equal to 0\n",
    "# replacing with NaN so the distribution isn't skewed.  \n",
    "OgData[OgData['revenue']==0].shape\n",
    "OgData['revenue']=OgData['revenue'].replace(0,np.nan)\n",
    "OgData['budget']=OgData['budget'].replace(0,np.nan)"
   ]
  },
  {
   "cell_type": "code",
   "execution_count": null,
   "metadata": {},
   "outputs": [],
   "source": [
    "#formatting csv columns that are in json/dict format and converting them to lists\n",
    "# only run once or error\n",
    "from ast import literal_eval\n",
    "OgData['genres']=OgData['genres'].fillna('[]').apply(literal_eval).apply(lambda x:[i['name'] for i in x] if isinstance(x,list) else [])\n",
    "OgData['production_companies']=OgData['production_companies'].fillna('[]').apply(literal_eval).apply(lambda x:[i['name'] for i in x] if isinstance(x,list) else [])\n",
    "OgData['production_countries']=OgData['production_countries'].fillna('[]').apply(literal_eval).apply(lambda x:[i['name'] for i in x] if isinstance(x,list) else [])\n",
    "OgData['spoken_languages']=OgData['spoken_languages'].fillna('[]').apply(literal_eval).apply(lambda x:[i['name'] for i in x] if isinstance(x,list) else [])\n",
    "OgData['belongs_to_collection']=OgData['belongs_to_collection'].fillna('[]').apply(literal_eval).apply(lambda x:x['name'] if isinstance(x,dict) else np.nan)\n",
    "# Adding in return where >1 is profit and <1 is loss\n",
    "OgData['return']=OgData['revenue']/OgData['budget']\n"
   ]
  },
  {
   "cell_type": "code",
   "execution_count": null,
   "metadata": {},
   "outputs": [],
   "source": [
    "#this url is not included in the poster_paths column\n",
    "BaseUrl = 'http://image.tmdb.org/t/p/w185'"
   ]
  },
  {
   "cell_type": "code",
   "execution_count": null,
   "metadata": {},
   "outputs": [],
   "source": [
    "# adding Base URl to every poster path\n",
    "OgData['poster_path']=BaseUrl+OgData['poster_path']\n",
    "OgData"
   ]
  },
  {
   "cell_type": "code",
   "execution_count": null,
   "metadata": {},
   "outputs": [],
   "source": [
    "# image processing Test\n",
    "from skimage import io\n",
    "from skimage.color import rgb2gray\n",
    "# had to convert image to gray or else the model won't run\n",
    "x=io.imread(OgData.poster_path[0])\n",
    "x=rgb2gray(x)\n",
    "x"
   ]
  },
  {
   "cell_type": "code",
   "execution_count": null,
   "metadata": {},
   "outputs": [],
   "source": [
    "io.imshow(x)"
   ]
  },
  {
   "cell_type": "code",
   "execution_count": null,
   "metadata": {},
   "outputs": [],
   "source": [
    "#determining if any movies don't have th poster link\n",
    "OgData['poster_path'].isnull().sum()"
   ]
  },
  {
   "cell_type": "code",
   "execution_count": null,
   "metadata": {},
   "outputs": [],
   "source": [
    "OgData[OgData['poster_path'].isnull()].index"
   ]
  },
  {
   "cell_type": "code",
   "execution_count": null,
   "metadata": {},
   "outputs": [],
   "source": [
    "# reading in actual pictures\n",
    "Poster=[]\n",
    "for i in range(len(OgData)):\n",
    "    #accounting for the empty links\n",
    "    if i==2407 or i==2429:\n",
    "        next\n",
    "    else:\n",
    "        y=io.imread(OgData.poster_path[i])\n",
    "        Poster.append(rgb2gray(y))\n",
    "    "
   ]
  },
  {
   "cell_type": "code",
   "execution_count": null,
   "metadata": {},
   "outputs": [],
   "source": [
    "from skimage.io._plugins import matplotlib_plugin"
   ]
  },
  {
   "cell_type": "code",
   "execution_count": null,
   "metadata": {},
   "outputs": [],
   "source": [
    "#preview first 6\n",
    "import matplotlib.pyplot as plt\n",
    "for i in range(6):\n",
    "    io.imshow(Poster[i],interpolation='nearest',aspect='auto')\n",
    "    plt.show()"
   ]
  },
  {
   "cell_type": "code",
   "execution_count": null,
   "metadata": {},
   "outputs": [],
   "source": [
    "#append list of image array as column to dataframe\n",
    "Poster_Image_Array=pd.Series(Poster)\n",
    "#Note that this code inserts alot of info into the dataframe and slows down\n",
    "#the ability to access values in OgData. \n",
    "OgData['Poster_Image_Array']=Poster_Image_Array.values"
   ]
  },
  {
   "cell_type": "code",
   "execution_count": null,
   "metadata": {},
   "outputs": [],
   "source": [
    "OgData.head()"
   ]
  },
  {
   "cell_type": "code",
   "execution_count": null,
   "metadata": {},
   "outputs": [],
   "source": [
    "#Number of Movies by Genre\n",
    "Unique_Genres=[]\n",
    "for i in OgData['genres']:\n",
    "    for y in i:\n",
    "        if y not in Unique_Genres:\n",
    "            Unique_Genres.append(y)"
   ]
  },
  {
   "cell_type": "code",
   "execution_count": null,
   "metadata": {},
   "outputs": [],
   "source": [
    "Unique_Genres\n",
    "#print(\"The Total Number of Genres is %s\" %len(Unique_Genres))"
   ]
  },
  {
   "cell_type": "code",
   "execution_count": null,
   "metadata": {},
   "outputs": [],
   "source": [
    "# counting hhow many occurences of each genre\n",
    "count_genre=[]\n",
    "for i in Unique_Genres:\n",
    "    y=sum(x.count(i) for x in OgData['genres'])\n",
    "    count_genre.append(y)\n",
    "count_genre\n",
    "    \n",
    "\n",
    "        "
   ]
  },
  {
   "cell_type": "code",
   "execution_count": null,
   "metadata": {},
   "outputs": [],
   "source": [
    "OgData['Poster_Image_Array'][0]"
   ]
  },
  {
   "cell_type": "code",
   "execution_count": null,
   "metadata": {},
   "outputs": [],
   "source": [
    "#OgData['Poster_Image_Array'][column index]\n",
    "#[2 to access RGB Info for all pixels]\n",
    "#[individual pixel RGB value][0 is R, 1 is G, 2 is B]\n",
    "#185 pixels per image\n",
    "Average_RGB_Values=[]\n",
    "for j in range(len(OgData['Poster_Image_Array'])):\n",
    "    R_Values=[]\n",
    "    G_Values=[]\n",
    "    B_Values=[]\n",
    "    if j==2407 or j==2429:\n",
    "        Average_RGB_Values.append([0,0,0])\n",
    "    else:\n",
    "        for y in range(3):\n",
    "            for i in range(185):\n",
    "                if y==0: \n",
    "                    R_Values.append(OgData['Poster_Image_Array'][j][2][i][y])\n",
    "                elif y==1:\n",
    "                    G_Values.append(OgData['Poster_Image_Array'][j][2][i][y])\n",
    "                elif y==2:\n",
    "                    B_Values.append(OgData['Poster_Image_Array'][j][2][i][y])\n",
    "                \n",
    "        Average_RGB_Values.append([np.mean(R_Values),np.mean(G_Values),np.mean(B_Values)])\n",
    "    \n",
    "            \n",
    "        "
   ]
  },
  {
   "cell_type": "code",
   "execution_count": null,
   "metadata": {},
   "outputs": [],
   "source": [
    "# Rounding up values\n",
    "import math as m\n",
    "for i in range (len(Average_RGB_Values)):\n",
    "    for y in range(len(Average_RGB_Values[i])):\n",
    "        Average_RGB_Values[i][y]=m.ceil(Average_RGB_Values[i][y])\n",
    "        "
   ]
  },
  {
   "cell_type": "code",
   "execution_count": null,
   "metadata": {},
   "outputs": [],
   "source": [
    " Average_RGB_Values"
   ]
  },
  {
   "cell_type": "code",
   "execution_count": null,
   "metadata": {},
   "outputs": [],
   "source": [
    "# Adding Average_RGB_Values to DataFrame \n",
    "m=pd.Series(Average_RGB_Values)\n",
    "OgData['Avg_RGB_Value']=m.values\n",
    "OgData.head()\n",
    "#interesting that the first 3 here ave RGB are [0,0,0] since tehre is a \n",
    "#an image produced mostly black...."
   ]
  },
  {
   "cell_type": "code",
   "execution_count": null,
   "metadata": {},
   "outputs": [],
   "source": [
    "OgData.head()"
   ]
  },
  {
   "cell_type": "code",
   "execution_count": null,
   "metadata": {},
   "outputs": [],
   "source": [
    "#Image Analysis\n",
    "import matplotlib.pyplot as plt\n",
    "from sklearn import svm,metrics"
   ]
  },
  {
   "cell_type": "code",
   "execution_count": null,
   "metadata": {},
   "outputs": [],
   "source": [
    "from skimage.transform import resize\n",
    "#images need to have the same dimensions before inputting into\n",
    "#the model\n",
    "for i in range(len(Poster)):\n",
    "    \n",
    "    Poster[i]=resize(Poster[i],(185,185))"
   ]
  },
  {
   "cell_type": "code",
   "execution_count": null,
   "metadata": {},
   "outputs": [],
   "source": [
    "Poster=np.array(Poster)\n",
    "Poster[0].shape"
   ]
  },
  {
   "cell_type": "code",
   "execution_count": null,
   "metadata": {},
   "outputs": [],
   "source": [
    "Poster.shape"
   ]
  },
  {
   "cell_type": "code",
   "execution_count": null,
   "metadata": {},
   "outputs": [],
   "source": [
    "#image example from sklearn in order to better understand how the \n",
    "#analysis is going to work.\n",
    "from sklearn import datasets\n",
    "digits=datasets.load_digits()\n",
    "digits.images.shape\n",
    "data2=digits.images.reshape((len(digits.images),-1))\n",
    "data2.shape"
   ]
  },
  {
   "cell_type": "code",
   "execution_count": null,
   "metadata": {},
   "outputs": [],
   "source": [
    "digits.images.shape"
   ]
  },
  {
   "cell_type": "code",
   "execution_count": null,
   "metadata": {},
   "outputs": [],
   "source": [
    "images_and_labels = list(zip(digits.images, digits.target))\n",
    "for index, (image, label) in enumerate(images_and_labels[:4]):\n",
    "    plt.subplot(2, 4, index + 1)\n",
    "    plt.axis('off')\n",
    "    plt.imshow(image, cmap=plt.cm.gray_r, interpolation='nearest')\n",
    "    plt.title('Training: %i' % label)"
   ]
  },
  {
   "cell_type": "code",
   "execution_count": null,
   "metadata": {},
   "outputs": [],
   "source": [
    "#actual model\n",
    "#since movies have multiple genres,we have to use the \n",
    "#MultiLabelBinarizer Hot encode all the genres for for each movie\n",
    "from sklearn.preprocessing import MultiLabelBinarizer\n",
    "mlb=MultiLabelBinarizer()\n",
    "y=mlb.fit_transform([i for i in OgData['genres']])\n",
    "# these are all the classes for all genres\n",
    "mlb.classes_"
   ]
  },
  {
   "cell_type": "code",
   "execution_count": null,
   "metadata": {},
   "outputs": [],
   "source": [
    "y_test=[]\n",
    "for i in range(len(y)):\n",
    "    if i==2407 or i==2429:\n",
    "        next\n",
    "    else:\n",
    "        y_test.append(y[i])"
   ]
  },
  {
   "cell_type": "code",
   "execution_count": null,
   "metadata": {},
   "outputs": [],
   "source": [
    "y=np.array(y_test)"
   ]
  },
  {
   "cell_type": "code",
   "execution_count": null,
   "metadata": {},
   "outputs": [],
   "source": [
    "n_samples=len(Poster)\n",
    "data=Poster.reshape((len(Poster),-1))\n",
    "data.shape\n",
    "#len(data[:n_samples//2])"
   ]
  },
  {
   "cell_type": "code",
   "execution_count": null,
   "metadata": {},
   "outputs": [],
   "source": [
    "#Support Vector Classification\n",
    "# notice 50% training set and 50% test set\n",
    "#WARNING: IT TAKES MORE THAN 1 HOUR TO RUN\n",
    "from sklearn import svm\n",
    "from sklearn.multiclass import OneVsRestClassifier\n",
    "classifier=OneVsRestClassifier(estimator=svm.LinearSVC(random_state=0))\n",
    "classifier.fit(data[:n_samples//2],y[:n_samples//2])\n",
    "#using SVM because it works really well with high dimensions\n"
   ]
  },
  {
   "cell_type": "code",
   "execution_count": null,
   "metadata": {},
   "outputs": [],
   "source": [
    "expected=y[n_samples//2:]\n",
    "predicted=classifier.predict(data[n_samples//2:])\n",
    "%time\n",
    "# function %time didnt work correctly this code took longer than 30 min to run"
   ]
  },
  {
   "cell_type": "code",
   "execution_count": null,
   "metadata": {},
   "outputs": [],
   "source": [
    "expected=y[n_samples//2:]"
   ]
  },
  {
   "cell_type": "code",
   "execution_count": null,
   "metadata": {},
   "outputs": [],
   "source": [
    "print(\"Classification report for classifier %s:\\n%s\\n\"%(classifier,metrics.classification_report(expected,predicted)))\n"
   ]
  },
  {
   "cell_type": "code",
   "execution_count": null,
   "metadata": {},
   "outputs": [],
   "source": [
    "#For the above model we had a terrible prediction rate.\n",
    "#Factors that could've caused this are that there are too many genres.\n",
    "#maybe alot of defining features exist in the RGB values rather than in gray-scale\n"
   ]
  },
  {
   "cell_type": "code",
   "execution_count": null,
   "metadata": {},
   "outputs": [],
   "source": [
    "from sklearn.metrics import accuracy_score\n",
    "print(accuracy_score(expected,predicted))\n",
    "#this accuracy represents for each poster it identified all 20 labels correctly 2% of the time."
   ]
  },
  {
   "cell_type": "code",
   "execution_count": null,
   "metadata": {},
   "outputs": [],
   "source": [
    "BData=OgData\n",
    "BData"
   ]
  },
  {
   "cell_type": "code",
   "execution_count": null,
   "metadata": {},
   "outputs": [],
   "source": [
    "#Adding in Binary Features\n",
    "#attempting categorical variables to predict whether a movie was a success\n",
    "BData['profit']=np.where(OgData['revenue']/OgData['budget']>1,1,0)\n",
    "BData['Movie_Collection_bool']=np.where(OgData['belongs_to_collection'] == np.nan,0,1)\n",
    "BData['Number_Genres']=OgData['genres'].apply(lambda x: len(x)) \n",
    "BData['Number_Production_Companies']=OgData['production_companies'].apply(lambda x: len(x)) \n",
    "BData['Number_Production_Countries']=OgData['production_countries'].apply(lambda x: len(x)) \n",
    "for i in Unique_Genres:\n",
    "    BData['is_'+str(i)]=OgData['genres'].apply(lambda x:1 if i in x else 0)\n",
    "        "
   ]
  },
  {
   "cell_type": "code",
   "execution_count": null,
   "metadata": {},
   "outputs": [],
   "source": [
    "BData"
   ]
  },
  {
   "cell_type": "code",
   "execution_count": null,
   "metadata": {},
   "outputs": [],
   "source": [
    "#Logistic Regression\n",
    "BData2=BData.drop(['return','belongs_to_collection','genres','original_language','popularity','poster_path','production_companies','production_countries','release_date','revenue','runtime','spoken_languages','tagline','title','overview'],axis=1)\n",
    "BData2=BData2.dropna()\n",
    "BData2"
   ]
  },
  {
   "cell_type": "code",
   "execution_count": null,
   "metadata": {},
   "outputs": [],
   "source": [
    "Predicted=logistic.predict(X_Test)\n",
    "print(\"Confusion matrix:\\n%s\" % metrics.confusion_matrix(Y_Test, Predicted))"
   ]
  },
  {
   "cell_type": "code",
   "execution_count": null,
   "metadata": {},
   "outputs": [],
   "source": [
    "from sklearn.metrics import accuracy_score\n",
    "print(accuracy_score(Y_Test,Predicted))"
   ]
  },
  {
   "cell_type": "code",
   "execution_count": null,
   "metadata": {},
   "outputs": [],
   "source": [
    "# still just an okay accuracy not much better than guessing randomly."
   ]
  }
 ],
 "metadata": {
  "language_info": {
   "name": "python",
   "pygments_lexer": "ipython3"
  }
 },
 "nbformat": 4,
 "nbformat_minor": 2
}
