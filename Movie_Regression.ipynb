{
 "cells": [
  {
   "cell_type": "code",
   "execution_count": null,
   "metadata": {},
   "outputs": [],
   "source": [
    "import pandas as pd \n",
    "import numpy as np\n",
    "import seaborn as sns\n",
    "from ast import literal_eval\n",
    "import matplotlib.pyplot as plt\n",
    "from sklearn import datasets, linear_model\n",
    "from sklearn.model_selection import train_test_split\n",
    "from sklearn.ensemble import GradientBoostingClassifier, GradientBoostingRegressor\n",
    "from sklearn.dummy import DummyClassifier, DummyRegressor"
   ]
  },
  {
   "cell_type": "code",
   "execution_count": null,
   "metadata": {},
   "outputs": [],
   "source": [
    "movies_data = pd.read_csv('dataset/movie_metadata_cleaned.csv')\n",
    "movies_data['genres'] = movies_data['genres'].fillna('[]').apply(literal_eval).apply(lambda x: [i['name'] for i in x] if isinstance(x, list) else [])\n",
    "movies_data['production_companies'] = movies_data['production_companies'].fillna('[]').apply(literal_eval).apply(lambda x: [i['name'] for i in x] if isinstance(x, list) else [])"
   ]
  },
  {
   "cell_type": "code",
   "execution_count": null,
   "metadata": {},
   "outputs": [],
   "source": [
    "Unique_Genres=[]\n",
    "for i in movies_data['genres']:\n",
    "    for y in i:\n",
    "        if y not in Unique_Genres:\n",
    "            Unique_Genres.append(y)"
   ]
  },
  {
   "cell_type": "code",
   "execution_count": null,
   "metadata": {},
   "outputs": [],
   "source": [
    "movies_data['Rev_Budget']=np.where((movies_data['revenue']/movies_data['budget'])>1,1,0)\n",
    "movies_data['vote_avg_bin']=np.where(movies_data['vote_average']>7,1,0)\n",
    "movies_data['Movie_Collection_bool']=np.where(movies_data['belongs_to_collection'] == np.nan,0,1)\n",
    "movies_data['Number_Genres']=movies_data['genres'].apply(lambda x: len(x)) \n",
    "movies_data['Number_Production_Companies']=movies_data['production_companies'].apply(lambda x: len(x)) \n",
    "movies_data['Number_Production_Countries']=movies_data['production_countries'].apply(lambda x: len(x)) \n",
    "\n",
    "for i in Unique_Genres:\n",
    "    movies_data['is_'+str(i)]=movies_data['genres'].apply(lambda x:1 if i in x else 0)\n",
    "movie=pd.DataFrame(movies_data, columns=[\"Rev_Budget\", 'vote_avg_bin','Number_Genres', \"Number_Production_Companies\",'vote_count',\n",
    "                                         'is_Action','is_Adventure','is_Thriller','is_Family','is_Animation','is_Drama','is_Crime', \n",
    "                                         'is_Science Fiction','is_Mystery', 'is_Fantasy', 'is_Comedy', 'is_Romance','is_Horror',\n",
    "                                         'is_Western','is_Music','is_History','is_War','is_Documentary','is_TV Movie','is_Foreign'])"
   ]
  },
  {
   "cell_type": "code",
   "execution_count": null,
   "metadata": {},
   "outputs": [],
   "source": [
    "classif = movie[movie['Rev_Budget'].notnull()]\n",
    "classif.shape"
   ]
  },
  {
   "cell_type": "code",
   "execution_count": null,
   "metadata": {},
   "outputs": [],
   "source": [
    "classif['Rev_Budget'].value_counts()"
   ]
  },
  {
   "cell_type": "code",
   "execution_count": null,
   "metadata": {},
   "outputs": [],
   "source": [
    "X, y = classif.drop('Rev_Budget', axis=1), classif['Rev_Budget']\n",
    "train_X, test_X, train_y, test_y = train_test_split(X, y, train_size=0.75, test_size=0.25, stratify=y)"
   ]
  },
  {
   "cell_type": "code",
   "execution_count": null,
   "metadata": {},
   "outputs": [],
   "source": [
    "cl = GradientBoostingClassifier()\n",
    "cl.fit(train_X, train_y)\n",
    "cl.score(test_X, test_y)"
   ]
  },
  {
   "cell_type": "code",
   "execution_count": null,
   "metadata": {},
   "outputs": [],
   "source": [
    "dummy = DummyClassifier(strategy='most_frequent')\n",
    "dummy.fit(train_X, train_y)\n",
    "dummy.score(test_X, test_y)"
   ]
  },
  {
   "cell_type": "code",
   "execution_count": null,
   "metadata": {},
   "outputs": [],
   "source": [
    "plt.figure(figsize=(10,12))\n",
    "sns.barplot(x=cl.feature_importances_, y=X.columns)"
   ]
  }
 ],
 "metadata": {
  "language_info": {
   "name": "python",
   "pygments_lexer": "ipython3"
  }
 },
 "nbformat": 4,
 "nbformat_minor": 2
}
