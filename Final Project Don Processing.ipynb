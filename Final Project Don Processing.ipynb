{
 "cells": [
  {
   "cell_type": "code",
   "execution_count": null,
   "metadata": {},
   "outputs": [],
   "source": [
    "!pip install wordcloud"
   ]
  },
  {
   "cell_type": "code",
   "execution_count": null,
   "metadata": {},
   "outputs": [],
   "source": [
    "!pip install plotly"
   ]
  },
  {
   "cell_type": "code",
   "execution_count": null,
   "metadata": {},
   "outputs": [],
   "source": [
    "%matplotlib inline\n",
    "from IPython.display import Image, HTML\n",
    "import json\n",
    "import datetime\n",
    "import ast\n",
    "import pandas as pd\n",
    "import matplotlib.pyplot as plt\n",
    "import seaborn as sns\n",
    "import numpy as np\n",
    "from scipy import stats\n",
    "from sklearn.ensemble import GradientBoostingClassifier, GradientBoostingRegressor\n",
    "from sklearn.dummy import DummyClassifier, DummyRegressor\n",
    "from sklearn.model_selection import train_test_split\n",
    "from wordcloud import WordCloud, STOPWORDS\n",
    "import plotly\n",
    "import plotly.offline as py\n",
    "py.init_notebook_mode(connected=True)\n",
    "import plotly.graph_objs as go\n",
    "import plotly.tools as tls\n",
    "import warnings\n",
    "warnings.filterwarnings('ignore')\n",
    "plotly.tools.set_credentials_file(username='rounakbanik', api_key='xTLaHBy9MVv5szF4Pwan')\n",
    "\n",
    "sns.set_style('whitegrid')\n",
    "sns.set(font_scale=1.25)\n",
    "pd.set_option('display.max_colwidth', 50)"
   ]
  },
  {
   "cell_type": "code",
   "execution_count": null,
   "metadata": {},
   "outputs": [],
   "source": [
    "movie_data = pd.read_csv('dataset/movie_metadata_cleaned.csv')"
   ]
  },
  {
   "cell_type": "code",
   "execution_count": null,
   "metadata": {},
   "outputs": [],
   "source": [
    "movie_data.head()"
   ]
  },
  {
   "cell_type": "code",
   "execution_count": null,
   "metadata": {},
   "outputs": [],
   "source": [
    "movie_data.describe()"
   ]
  },
  {
   "cell_type": "code",
   "execution_count": null,
   "metadata": {},
   "outputs": [],
   "source": [
    "#formatting csv columns that are in json/dict format and converting them to lists\n",
    "from ast import literal_eval\n",
    "movie_data['genres']=movie_data['genres'].fillna('[]').apply(literal_eval).apply(lambda x:[i['name'] for i in x] if isinstance(x,list) else [])\n",
    "movie_data['production_companies']=movie_data['production_companies'].fillna('[]').apply(literal_eval).apply(lambda x:[i['name'] for i in x] if isinstance(x,list) else [])\n",
    "movie_data['production_countries']=movie_data['production_countries'].fillna('[]').apply(literal_eval).apply(lambda x:[i['name'] for i in x] if isinstance(x,list) else [])\n",
    "movie_data['spoken_languages']=movie_data['spoken_languages'].fillna('[]').apply(literal_eval).apply(lambda x:[i['name'] for i in x] if isinstance(x,list) else [])\n",
    "movie_data['belongs_to_collection']=movie_data['belongs_to_collection'].fillna('[]').apply(literal_eval).apply(lambda x:x['name'] if isinstance(x,dict) else np.nan)"
   ]
  },
  {
   "cell_type": "code",
   "execution_count": null,
   "metadata": {},
   "outputs": [],
   "source": [
    "movie_data"
   ]
  },
  {
   "cell_type": "code",
   "execution_count": null,
   "metadata": {},
   "outputs": [],
   "source": [
    "movie_data['return'] = movie_data['revenue'] / movie_data['budget']"
   ]
  },
  {
   "cell_type": "code",
   "execution_count": null,
   "metadata": {},
   "outputs": [],
   "source": [
    "# WordClouds\n",
    "movie_data['title'] = movie_data['title'].astype('str')\n",
    "movie_data['overview'] = movie_data['overview'].astype('str')"
   ]
  },
  {
   "cell_type": "code",
   "execution_count": null,
   "metadata": {},
   "outputs": [],
   "source": [
    "title_corpus = ' '.join(movie_data['title'])\n",
    "overview_corpus = ' '.join(movie_data['overview'])"
   ]
  },
  {
   "cell_type": "code",
   "execution_count": null,
   "metadata": {},
   "outputs": [],
   "source": [
    "title_wordcloud = WordCloud(stopwords=STOPWORDS, background_color='white', height=2000, width=4000).generate(title_corpus)\n",
    "plt.figure(figsize=(16,8))\n",
    "plt.imshow(title_wordcloud)\n",
    "plt.axis('off')\n",
    "plt.show()"
   ]
  },
  {
   "cell_type": "code",
   "execution_count": null,
   "metadata": {},
   "outputs": [],
   "source": [
    "overview_wordcloud = WordCloud(stopwords=STOPWORDS, background_color='white', height=2000, width=4000).generate(overview_corpus)\n",
    "plt.figure(figsize=(16,8))\n",
    "plt.imshow(overview_wordcloud)\n",
    "plt.axis('off')\n",
    "plt.show()"
   ]
  },
  {
   "cell_type": "code",
   "execution_count": null,
   "metadata": {},
   "outputs": [],
   "source": [
    "# Production Countries \n",
    "s = movie_data.apply(lambda x: pd.Series(x['production_countries']),axis=1).stack().reset_index(level=1, drop=True)\n",
    "s.name = 'countries'"
   ]
  },
  {
   "cell_type": "code",
   "execution_count": null,
   "metadata": {},
   "outputs": [],
   "source": [
    "con_movie_data = movie_data.drop('production_countries', axis=1).join(s)\n",
    "con_movie_data = pd.DataFrame(con_movie_data['countries'].value_counts())\n",
    "con_movie_data['country'] = con_movie_data.index\n",
    "con_movie_data.columns = ['num_movies', 'country']\n",
    "con_movie_data = con_movie_data.reset_index().drop('index', axis=1)\n",
    "con_movie_data.head(10)"
   ]
  },
  {
   "cell_type": "code",
   "execution_count": null,
   "metadata": {},
   "outputs": [],
   "source": [
    "# Franchise Movie \n",
    "fran = movie_data[movie_data['belongs_to_collection'].notnull()]\n",
    "fran = fran[fran['belongs_to_collection'].notnull()]"
   ]
  },
  {
   "cell_type": "code",
   "execution_count": null,
   "metadata": {},
   "outputs": [],
   "source": [
    "fran_pivot = fran.pivot_table(index='belongs_to_collection', values='revenue', aggfunc={'revenue': ['mean', 'sum', 'count']}).reset_index()"
   ]
  },
  {
   "cell_type": "code",
   "execution_count": null,
   "metadata": {},
   "outputs": [],
   "source": [
    "#Most Successful Movie Franchises (by Average Gross)\n",
    "fran_pivot.sort_values('sum', ascending=False).head(10)"
   ]
  },
  {
   "cell_type": "code",
   "execution_count": null,
   "metadata": {},
   "outputs": [],
   "source": [
    "# Production Companies \n",
    "h = movie_data.apply(lambda x: pd.Series(x['production_companies']),axis=1).stack().reset_index(level=1, drop=True)\n",
    "h.name = 'companies'"
   ]
  },
  {
   "cell_type": "code",
   "execution_count": null,
   "metadata": {},
   "outputs": [],
   "source": [
    "com = movie_data.drop('production_companies', axis=1).join(h)"
   ]
  },
  {
   "cell_type": "code",
   "execution_count": null,
   "metadata": {},
   "outputs": [],
   "source": [
    "com_sum = pd.DataFrame(com.groupby('companies')['revenue'].sum().sort_values(ascending=False))\n",
    "com_sum.columns = ['Total']\n",
    "com_mean = pd.DataFrame(com.groupby('companies')['revenue'].mean().sort_values(ascending=False))\n",
    "com_mean.columns = ['Average']\n",
    "com_count = pd.DataFrame(com.groupby('companies')['revenue'].count().sort_values(ascending=False))\n",
    "com_count.columns = ['Number']\n",
    "\n",
    "com_pivot = pd.concat((com_sum, com_mean, com_count), axis=1)"
   ]
  },
  {
   "cell_type": "code",
   "execution_count": null,
   "metadata": {},
   "outputs": [],
   "source": [
    "#Highest Earning Production Companies\n",
    "com_pivot.sort_values('Total', ascending=False).head(10)"
   ]
  },
  {
   "cell_type": "code",
   "execution_count": null,
   "metadata": {},
   "outputs": [],
   "source": [
    "# Most Voted Movies\n",
    "def clean_numeric(x):\n",
    "    try:\n",
    "        return float(x)\n",
    "    except:\n",
    "        return np.nan\n",
    "    \n",
    "movie_data['vote_count'] = movie_data['vote_count'].apply(clean_numeric).astype('float')\n",
    "movie_data['vote_average'] = movie_data['vote_average'].apply(clean_numeric).astype('float')"
   ]
  },
  {
   "cell_type": "code",
   "execution_count": null,
   "metadata": {},
   "outputs": [],
   "source": [
    "movie_data[['title', 'vote_count', 'release_date']].sort_values('vote_count', ascending=False).head(10)"
   ]
  },
  {
   "cell_type": "code",
   "execution_count": null,
   "metadata": {},
   "outputs": [],
   "source": [
    "sns.distplot(movie_data['vote_average'].fillna(movie_data['vote_average'].median()))"
   ]
  },
  {
   "cell_type": "code",
   "execution_count": null,
   "metadata": {},
   "outputs": [],
   "source": [
    "movie_data[movie_data['vote_count'] > 2000][['title', 'vote_average', 'vote_count' ,'release_date']].sort_values('vote_average', ascending=False).head(10)"
   ]
  },
  {
   "cell_type": "code",
   "execution_count": null,
   "metadata": {},
   "outputs": [],
   "source": [
    "#There is a very small correlation between Vote Count and Vote Average. A large number of votes on a particular movie does not necessarily imply that the movie is good.\n",
    "sns.jointplot(x='vote_average', y='vote_count', data=movie_data)"
   ]
  },
  {
   "cell_type": "code",
   "execution_count": null,
   "metadata": {},
   "outputs": [],
   "source": [
    "# Movie Release Dates\n",
    "month_order = ['Jan', 'Feb', 'Mar', 'Apr', 'May', 'Jun', 'Jul', 'Aug', 'Sep', 'Oct', 'Nov', 'Dec']\n",
    "day_order = ['Mon', 'Tue', 'Wed', 'Thu', 'Fri', 'Sat', 'Sun']"
   ]
  },
  {
   "cell_type": "code",
   "execution_count": null,
   "metadata": {},
   "outputs": [],
   "source": [
    "def get_month(x):\n",
    "    try:\n",
    "        return month_order[int(str(x).split('/')[1]) - 1]\n",
    "    except:\n",
    "        return np.nan"
   ]
  },
  {
   "cell_type": "code",
   "execution_count": null,
   "metadata": {},
   "outputs": [],
   "source": [
    "def get_day(x):\n",
    "    try:\n",
    "        month, day, year = (int(i) for i in x.split('/'))    \n",
    "        answer = datetime.date(month, day, year).weekday()\n",
    "        return day_order[answer]\n",
    "    except:\n",
    "        return np.nan"
   ]
  },
  {
   "cell_type": "code",
   "execution_count": null,
   "metadata": {},
   "outputs": [],
   "source": [
    "movie_data['day'] = movie_data['release_date'].apply(get_day)\n",
    "movie_data['month'] = movie_data['release_date'].apply(get_month)"
   ]
  },
  {
   "cell_type": "code",
   "execution_count": null,
   "metadata": {},
   "outputs": [],
   "source": [
    "plt.figure(figsize=(12,6))\n",
    "plt.title(\"Number of Movies released in a particular month.\")\n",
    "sns.countplot(x='month', data=movie_data, order=month_order)"
   ]
  },
  {
   "cell_type": "code",
   "execution_count": null,
   "metadata": {},
   "outputs": [],
   "source": [
    "month_mean = pd.DataFrame(movie_data[movie_data['revenue'] > 1e8].groupby('month')['revenue'].mean())\n",
    "month_mean['mon'] = month_mean.index\n",
    "plt.figure(figsize=(12,6))\n",
    "plt.title(\"Average Gross by the Month for Blockbuster Movies\")\n",
    "sns.barplot(x='mon', y='revenue', data=month_mean, order=month_order)"
   ]
  },
  {
   "cell_type": "code",
   "execution_count": null,
   "metadata": {},
   "outputs": [],
   "source": [
    "# Boxpolt\n",
    "fig, ax = plt.subplots(nrows=1, ncols=1,figsize=(15, 8))\n",
    "sns.boxplot(x='month', y='return', data=movie_data[movie_data['return'].notnull()], palette=\"muted\", ax =ax, order=month_order)\n",
    "ax.set_ylim([0, 12])"
   ]
  },
  {
   "cell_type": "code",
   "execution_count": null,
   "metadata": {},
   "outputs": [],
   "source": [
    "# Days\n",
    "plt.figure(figsize=(10,5))\n",
    "plt.title(\"Number of Movies released on a particular day.\")\n",
    "sns.countplot(x='day', data=movie_data, order=day_order)"
   ]
  },
  {
   "cell_type": "code",
   "execution_count": null,
   "metadata": {},
   "outputs": [],
   "source": []
  }
 ],
 "metadata": {
  "language_info": {
   "name": "python",
   "pygments_lexer": "ipython3"
  }
 },
 "nbformat": 4,
 "nbformat_minor": 2
}
